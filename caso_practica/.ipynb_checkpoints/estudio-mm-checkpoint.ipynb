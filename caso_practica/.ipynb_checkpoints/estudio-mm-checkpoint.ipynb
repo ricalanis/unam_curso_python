{
 "cells": [
  {
   "cell_type": "code",
   "execution_count": 1,
   "id": "81acc8f3-9bf3-4f25-b84a-3838d8359358",
   "metadata": {},
   "outputs": [],
   "source": [
    "import pandas as pd"
   ]
  },
  {
   "cell_type": "code",
   "execution_count": 2,
   "id": "436b0683-58d3-4759-9b38-1524a11fd1ba",
   "metadata": {},
   "outputs": [
    {
     "name": "stderr",
     "output_type": "stream",
     "text": [
      "/Users/ricalanis/opt/anaconda3/lib/python3.9/site-packages/IPython/core/interactiveshell.py:3444: DtypeWarning: Columns (9,12,13,16,21,28,32,33,34,35,36,37,40,41,42,43,44,45,46,49) have mixed types.Specify dtype option on import or set low_memory=False.\n",
      "  exec(code_obj, self.user_global_ns, self.user_ns)\n"
     ]
    }
   ],
   "source": [
    "collision_df = pd.read_csv(\"data.csv\")"
   ]
  },
  {
   "cell_type": "code",
   "execution_count": 5,
   "id": "05f53f9f-35c4-45f5-a0d5-855cefa784fa",
   "metadata": {},
   "outputs": [
    {
     "data": {
      "text/html": [
       "<div>\n",
       "<style scoped>\n",
       "    .dataframe tbody tr th:only-of-type {\n",
       "        vertical-align: middle;\n",
       "    }\n",
       "\n",
       "    .dataframe tbody tr th {\n",
       "        vertical-align: top;\n",
       "    }\n",
       "\n",
       "    .dataframe thead th {\n",
       "        text-align: right;\n",
       "    }\n",
       "</style>\n",
       "<table border=\"1\" class=\"dataframe\">\n",
       "  <thead>\n",
       "    <tr style=\"text-align: right;\">\n",
       "      <th></th>\n",
       "      <th>Column</th>\n",
       "      <th>Calle</th>\n",
       "      <th>Causa</th>\n",
       "      <th>Ciudad</th>\n",
       "      <th>Cruce</th>\n",
       "      <th>Fecha</th>\n",
       "      <th>Hora</th>\n",
       "      <th>ID</th>\n",
       "      <th>Latitud</th>\n",
       "      <th>Lesionados</th>\n",
       "      <th>...</th>\n",
       "      <th>V2_Uso de Cinturón</th>\n",
       "      <th>V3_Arresto</th>\n",
       "      <th>V3_Dictamen</th>\n",
       "      <th>V3_Edad</th>\n",
       "      <th>V3_Estatus Licencia</th>\n",
       "      <th>V3_Género</th>\n",
       "      <th>V3_No. De Fallecidos</th>\n",
       "      <th>V3_No. De Lesionados</th>\n",
       "      <th>V3_Tipo de Vehículo</th>\n",
       "      <th>V3_Uso de Cinturón</th>\n",
       "    </tr>\n",
       "  </thead>\n",
       "  <tbody>\n",
       "    <tr>\n",
       "      <th>0</th>\n",
       "      <td>0</td>\n",
       "      <td>CAMINO REAL</td>\n",
       "      <td>NO RESPETAR SEÑALAMIENTOS</td>\n",
       "      <td>Monterrey</td>\n",
       "      <td>SANTOS  PALOMO</td>\n",
       "      <td>2016-05-01 00:00:00</td>\n",
       "      <td>1899-12-30 00:00:00</td>\n",
       "      <td>MTY1</td>\n",
       "      <td>25.77443</td>\n",
       "      <td>No</td>\n",
       "      <td>...</td>\n",
       "      <td>NaN</td>\n",
       "      <td>NaN</td>\n",
       "      <td>NaN</td>\n",
       "      <td>NaN</td>\n",
       "      <td>NaN</td>\n",
       "      <td>NaN</td>\n",
       "      <td>NaN</td>\n",
       "      <td>NaN</td>\n",
       "      <td>NaN</td>\n",
       "      <td>NaN</td>\n",
       "    </tr>\n",
       "  </tbody>\n",
       "</table>\n",
       "<p>1 rows × 50 columns</p>\n",
       "</div>"
      ],
      "text/plain": [
       "   Column        Calle                      Causa     Ciudad           Cruce  \\\n",
       "0       0  CAMINO REAL  NO RESPETAR SEÑALAMIENTOS  Monterrey  SANTOS  PALOMO   \n",
       "\n",
       "                 Fecha                 Hora    ID   Latitud Lesionados  ...  \\\n",
       "0  2016-05-01 00:00:00  1899-12-30 00:00:00  MTY1  25.77443         No  ...   \n",
       "\n",
       "  V2_Uso de Cinturón V3_Arresto V3_Dictamen V3_Edad  V3_Estatus Licencia  \\\n",
       "0                NaN        NaN         NaN     NaN                  NaN   \n",
       "\n",
       "   V3_Género V3_No. De Fallecidos V3_No. De Lesionados V3_Tipo de Vehículo  \\\n",
       "0        NaN                  NaN                  NaN                 NaN   \n",
       "\n",
       "  V3_Uso de Cinturón  \n",
       "0                NaN  \n",
       "\n",
       "[1 rows x 50 columns]"
      ]
     },
     "execution_count": 5,
     "metadata": {},
     "output_type": "execute_result"
    }
   ],
   "source": [
    "collision_df.head(1)"
   ]
  },
  {
   "cell_type": "code",
   "execution_count": 6,
   "id": "d0470e9b-6f3a-4aa3-9e42-645efa3314e8",
   "metadata": {},
   "outputs": [
    {
     "data": {
      "text/html": [
       "<div>\n",
       "<style scoped>\n",
       "    .dataframe tbody tr th:only-of-type {\n",
       "        vertical-align: middle;\n",
       "    }\n",
       "\n",
       "    .dataframe tbody tr th {\n",
       "        vertical-align: top;\n",
       "    }\n",
       "\n",
       "    .dataframe thead th {\n",
       "        text-align: right;\n",
       "    }\n",
       "</style>\n",
       "<table border=\"1\" class=\"dataframe\">\n",
       "  <thead>\n",
       "    <tr style=\"text-align: right;\">\n",
       "      <th></th>\n",
       "      <th>Column</th>\n",
       "      <th>Calle</th>\n",
       "      <th>Causa</th>\n",
       "      <th>Ciudad</th>\n",
       "      <th>Cruce</th>\n",
       "      <th>Fecha</th>\n",
       "      <th>Hora</th>\n",
       "      <th>ID</th>\n",
       "      <th>Latitud</th>\n",
       "      <th>Lesionados</th>\n",
       "      <th>...</th>\n",
       "      <th>V2_Uso de Cinturón</th>\n",
       "      <th>V3_Arresto</th>\n",
       "      <th>V3_Dictamen</th>\n",
       "      <th>V3_Edad</th>\n",
       "      <th>V3_Estatus Licencia</th>\n",
       "      <th>V3_Género</th>\n",
       "      <th>V3_No. De Fallecidos</th>\n",
       "      <th>V3_No. De Lesionados</th>\n",
       "      <th>V3_Tipo de Vehículo</th>\n",
       "      <th>V3_Uso de Cinturón</th>\n",
       "    </tr>\n",
       "  </thead>\n",
       "  <tbody>\n",
       "    <tr>\n",
       "      <th>55012</th>\n",
       "      <td>25255</td>\n",
       "      <td>JOSE VASCONCELOS</td>\n",
       "      <td>NaN</td>\n",
       "      <td>San Pedro</td>\n",
       "      <td>J. M. MONTEMAYOR</td>\n",
       "      <td>2017-04-30 00:00:00</td>\n",
       "      <td>09:03:00 p.m.</td>\n",
       "      <td>SP2216</td>\n",
       "      <td>NaN</td>\n",
       "      <td>NaN</td>\n",
       "      <td>...</td>\n",
       "      <td>NaN</td>\n",
       "      <td>NaN</td>\n",
       "      <td>NaN</td>\n",
       "      <td>NaN</td>\n",
       "      <td>NaN</td>\n",
       "      <td>NaN</td>\n",
       "      <td>NaN</td>\n",
       "      <td>NaN</td>\n",
       "      <td>NaN</td>\n",
       "      <td>NaN</td>\n",
       "    </tr>\n",
       "  </tbody>\n",
       "</table>\n",
       "<p>1 rows × 50 columns</p>\n",
       "</div>"
      ],
      "text/plain": [
       "       Column             Calle Causa     Ciudad             Cruce  \\\n",
       "55012   25255  JOSE VASCONCELOS   NaN  San Pedro  J. M. MONTEMAYOR   \n",
       "\n",
       "                     Fecha           Hora      ID Latitud Lesionados  ...  \\\n",
       "55012  2017-04-30 00:00:00  09:03:00 p.m.  SP2216     NaN        NaN  ...   \n",
       "\n",
       "      V2_Uso de Cinturón V3_Arresto V3_Dictamen V3_Edad  V3_Estatus Licencia  \\\n",
       "55012                NaN        NaN         NaN     NaN                  NaN   \n",
       "\n",
       "       V3_Género V3_No. De Fallecidos V3_No. De Lesionados  \\\n",
       "55012        NaN                  NaN                  NaN   \n",
       "\n",
       "      V3_Tipo de Vehículo V3_Uso de Cinturón  \n",
       "55012                 NaN                NaN  \n",
       "\n",
       "[1 rows x 50 columns]"
      ]
     },
     "execution_count": 6,
     "metadata": {},
     "output_type": "execute_result"
    }
   ],
   "source": [
    "collision_df.tail(1)"
   ]
  },
  {
   "cell_type": "code",
   "execution_count": 7,
   "id": "cf3bbaf9-cdab-42be-92ce-1eabf380a6a4",
   "metadata": {},
   "outputs": [
    {
     "name": "stdout",
     "output_type": "stream",
     "text": [
      "<class 'pandas.core.frame.DataFrame'>\n",
      "RangeIndex: 55013 entries, 0 to 55012\n",
      "Data columns (total 50 columns):\n",
      " #   Column                       Non-Null Count  Dtype  \n",
      "---  ------                       --------------  -----  \n",
      " 0   Column                       55013 non-null  int64  \n",
      " 1   Calle                        54998 non-null  object \n",
      " 2   Causa                        48986 non-null  object \n",
      " 3   Ciudad                       55009 non-null  object \n",
      " 4   Cruce                        53444 non-null  object \n",
      " 5   Fecha                        55010 non-null  object \n",
      " 6   Hora                         51656 non-null  object \n",
      " 7   ID                           55009 non-null  object \n",
      " 8   Latitud                      25551 non-null  object \n",
      " 9   Lesionados                   27935 non-null  object \n",
      " 10  Longitud                     34515 non-null  object \n",
      " 11  Mes                          54908 non-null  object \n",
      " 12  Muertos                      22379 non-null  object \n",
      " 13  No. De Infracción            2812 non-null   object \n",
      " 14  Número  total de lesionados  28007 non-null  float64\n",
      " 15  Número total de muertos      21491 non-null  float64\n",
      " 16  Por alcohol                  19271 non-null  object \n",
      " 17  Sentido                      52590 non-null  object \n",
      " 18  Situación climática          47922 non-null  object \n",
      " 19  Situación del Pavimento      47989 non-null  object \n",
      " 20  Tipo de incidente            55013 non-null  object \n",
      " 21  Tipo de involucrado          28554 non-null  object \n",
      " 22  Tipo de vía                  42282 non-null  object \n",
      " 23  V1_Arresto                   39833 non-null  object \n",
      " 24  V1_Dictamen                  11808 non-null  object \n",
      " 25  V1_Edad                      51367 non-null  object \n",
      " 26  V1_Estatus Licencia          48795 non-null  object \n",
      " 27  V1_Género                    50921 non-null  object \n",
      " 28  V1_No. De Fallecidos         22220 non-null  object \n",
      " 29  V1_No. De Lesionados         22314 non-null  float64\n",
      " 30  V1_Tipo de Vehículo          54923 non-null  object \n",
      " 31  V1_Uso de Cinturón           36166 non-null  object \n",
      " 32  V2_Arresto                   13969 non-null  object \n",
      " 33  V2_Dictamen                  376 non-null    object \n",
      " 34  V2_Edad                      16311 non-null  object \n",
      " 35  V2_Estatus Licencia          14972 non-null  object \n",
      " 36  V2_Género                    17053 non-null  object \n",
      " 37  V2_No. De Fallecidos         17658 non-null  object \n",
      " 38  V2_No. De Lesionados         17743 non-null  float64\n",
      " 39  V2_Tipo de Vehículo          42102 non-null  object \n",
      " 40  V2_Uso de Cinturón           8489 non-null   object \n",
      " 41  V3_Arresto                   1996 non-null   object \n",
      " 42  V3_Dictamen                  14 non-null     object \n",
      " 43  V3_Edad                      563 non-null    object \n",
      " 44  V3_Estatus Licencia          579 non-null    object \n",
      " 45  V3_Género                    656 non-null    object \n",
      " 46  V3_No. De Fallecidos         10538 non-null  object \n",
      " 47  V3_No. De Lesionados         10567 non-null  float64\n",
      " 48  V3_Tipo de Vehículo          3949 non-null   object \n",
      " 49  V3_Uso de Cinturón           227 non-null    object \n",
      "dtypes: float64(5), int64(1), object(44)\n",
      "memory usage: 21.0+ MB\n"
     ]
    }
   ],
   "source": [
    "collision_df.info()"
   ]
  },
  {
   "cell_type": "code",
   "execution_count": 8,
   "id": "7322115f-d808-431a-b96a-e69ab7d2bf81",
   "metadata": {},
   "outputs": [
    {
     "data": {
      "text/html": [
       "<div>\n",
       "<style scoped>\n",
       "    .dataframe tbody tr th:only-of-type {\n",
       "        vertical-align: middle;\n",
       "    }\n",
       "\n",
       "    .dataframe tbody tr th {\n",
       "        vertical-align: top;\n",
       "    }\n",
       "\n",
       "    .dataframe thead th {\n",
       "        text-align: right;\n",
       "    }\n",
       "</style>\n",
       "<table border=\"1\" class=\"dataframe\">\n",
       "  <thead>\n",
       "    <tr style=\"text-align: right;\">\n",
       "      <th></th>\n",
       "      <th>Column</th>\n",
       "      <th>Número  total de lesionados</th>\n",
       "      <th>Número total de muertos</th>\n",
       "      <th>V1_No. De Lesionados</th>\n",
       "      <th>V2_No. De Lesionados</th>\n",
       "      <th>V3_No. De Lesionados</th>\n",
       "    </tr>\n",
       "  </thead>\n",
       "  <tbody>\n",
       "    <tr>\n",
       "      <th>count</th>\n",
       "      <td>55013.000000</td>\n",
       "      <td>28007.000000</td>\n",
       "      <td>21491.000000</td>\n",
       "      <td>22314.000000</td>\n",
       "      <td>17743.000000</td>\n",
       "      <td>10567.000000</td>\n",
       "    </tr>\n",
       "    <tr>\n",
       "      <th>mean</th>\n",
       "      <td>13844.814607</td>\n",
       "      <td>0.076195</td>\n",
       "      <td>0.003164</td>\n",
       "      <td>0.035404</td>\n",
       "      <td>0.040861</td>\n",
       "      <td>0.002271</td>\n",
       "    </tr>\n",
       "    <tr>\n",
       "      <th>std</th>\n",
       "      <td>8097.883654</td>\n",
       "      <td>0.472004</td>\n",
       "      <td>0.063181</td>\n",
       "      <td>0.350428</td>\n",
       "      <td>0.264089</td>\n",
       "      <td>0.081363</td>\n",
       "    </tr>\n",
       "    <tr>\n",
       "      <th>min</th>\n",
       "      <td>0.000000</td>\n",
       "      <td>0.000000</td>\n",
       "      <td>0.000000</td>\n",
       "      <td>0.000000</td>\n",
       "      <td>0.000000</td>\n",
       "      <td>0.000000</td>\n",
       "    </tr>\n",
       "    <tr>\n",
       "      <th>25%</th>\n",
       "      <td>6876.000000</td>\n",
       "      <td>0.000000</td>\n",
       "      <td>0.000000</td>\n",
       "      <td>0.000000</td>\n",
       "      <td>0.000000</td>\n",
       "      <td>0.000000</td>\n",
       "    </tr>\n",
       "    <tr>\n",
       "      <th>50%</th>\n",
       "      <td>13753.000000</td>\n",
       "      <td>0.000000</td>\n",
       "      <td>0.000000</td>\n",
       "      <td>0.000000</td>\n",
       "      <td>0.000000</td>\n",
       "      <td>0.000000</td>\n",
       "    </tr>\n",
       "    <tr>\n",
       "      <th>75%</th>\n",
       "      <td>20629.000000</td>\n",
       "      <td>0.000000</td>\n",
       "      <td>0.000000</td>\n",
       "      <td>0.000000</td>\n",
       "      <td>0.000000</td>\n",
       "      <td>0.000000</td>\n",
       "    </tr>\n",
       "    <tr>\n",
       "      <th>max</th>\n",
       "      <td>29756.000000</td>\n",
       "      <td>21.000000</td>\n",
       "      <td>4.000000</td>\n",
       "      <td>31.000000</td>\n",
       "      <td>10.000000</td>\n",
       "      <td>7.000000</td>\n",
       "    </tr>\n",
       "  </tbody>\n",
       "</table>\n",
       "</div>"
      ],
      "text/plain": [
       "             Column  Número  total de lesionados  Número total de muertos  \\\n",
       "count  55013.000000                 28007.000000             21491.000000   \n",
       "mean   13844.814607                     0.076195                 0.003164   \n",
       "std     8097.883654                     0.472004                 0.063181   \n",
       "min        0.000000                     0.000000                 0.000000   \n",
       "25%     6876.000000                     0.000000                 0.000000   \n",
       "50%    13753.000000                     0.000000                 0.000000   \n",
       "75%    20629.000000                     0.000000                 0.000000   \n",
       "max    29756.000000                    21.000000                 4.000000   \n",
       "\n",
       "       V1_No. De Lesionados  V2_No. De Lesionados  V3_No. De Lesionados  \n",
       "count          22314.000000          17743.000000          10567.000000  \n",
       "mean               0.035404              0.040861              0.002271  \n",
       "std                0.350428              0.264089              0.081363  \n",
       "min                0.000000              0.000000              0.000000  \n",
       "25%                0.000000              0.000000              0.000000  \n",
       "50%                0.000000              0.000000              0.000000  \n",
       "75%                0.000000              0.000000              0.000000  \n",
       "max               31.000000             10.000000              7.000000  "
      ]
     },
     "execution_count": 8,
     "metadata": {},
     "output_type": "execute_result"
    }
   ],
   "source": [
    "collision_df.describe()"
   ]
  },
  {
   "cell_type": "markdown",
   "id": "c4ac955d-d29b-43ec-8449-3372a5503338",
   "metadata": {},
   "source": [
    "1. Which roads \"appear to be\" the top 10 most dangerous roads of Monterrey Metropolitan area?\n"
   ]
  },
  {
   "cell_type": "code",
   "execution_count": 9,
   "id": "2b9af831-cce2-4c25-9858-acafba6fef60",
   "metadata": {},
   "outputs": [
    {
     "data": {
      "text/plain": [
       "MORONES PRIETO         1729\n",
       "LAZARO CARDENAS        1279\n",
       "GONZALITOS             1229\n",
       "GARZA SADA             1215\n",
       "ALFONSO REYES          1153\n",
       "                       ... \n",
       "VEINTICINCO DE MAYO       1\n",
       "SAN GILBERTO              1\n",
       "RINCON DE LA FAMA         1\n",
       "CARMEN CANTU              1\n",
       "PRIV LUIS ELIZONDO        1\n",
       "Name: Calle, Length: 5614, dtype: int64"
      ]
     },
     "execution_count": 9,
     "metadata": {},
     "output_type": "execute_result"
    }
   ],
   "source": [
    "collision_df['Calle'].value_counts()"
   ]
  },
  {
   "cell_type": "code",
   "execution_count": 11,
   "id": "c6334aa7-9740-4132-a194-31540c8fcafa",
   "metadata": {},
   "outputs": [
    {
     "data": {
      "text/plain": [
       "GONZALITOS           553\n",
       "LAZARO CARDENAS      463\n",
       "RUIZ CORTINES        427\n",
       "MADERO               387\n",
       "ALFONSO REYES        386\n",
       "                    ... \n",
       "MANDOLINA              1\n",
       "LAS LAJAS              1\n",
       "JOSE R PEÑA            1\n",
       "VASCO DE GAMA          1\n",
       "BOSQUES DEL ITSMO      1\n",
       "Name: Cruce, Length: 9037, dtype: int64"
      ]
     },
     "execution_count": 11,
     "metadata": {},
     "output_type": "execute_result"
    }
   ],
   "source": [
    "collision_df['Cruce'].value_counts()"
   ]
  },
  {
   "cell_type": "code",
   "execution_count": 24,
   "id": "102912d8-2382-4424-b1cf-e84c038d2921",
   "metadata": {},
   "outputs": [
    {
     "data": {
      "text/html": [
       "<div>\n",
       "<style scoped>\n",
       "    .dataframe tbody tr th:only-of-type {\n",
       "        vertical-align: middle;\n",
       "    }\n",
       "\n",
       "    .dataframe tbody tr th {\n",
       "        vertical-align: top;\n",
       "    }\n",
       "\n",
       "    .dataframe thead th {\n",
       "        text-align: right;\n",
       "    }\n",
       "</style>\n",
       "<table border=\"1\" class=\"dataframe\">\n",
       "  <thead>\n",
       "    <tr style=\"text-align: right;\">\n",
       "      <th></th>\n",
       "      <th>Column</th>\n",
       "      <th>Calle</th>\n",
       "      <th>Causa</th>\n",
       "      <th>Ciudad</th>\n",
       "      <th>Cruce</th>\n",
       "      <th>Fecha</th>\n",
       "      <th>Hora</th>\n",
       "      <th>ID</th>\n",
       "      <th>Latitud</th>\n",
       "      <th>Lesionados</th>\n",
       "      <th>...</th>\n",
       "      <th>V2_Uso de Cinturón</th>\n",
       "      <th>V3_Arresto</th>\n",
       "      <th>V3_Dictamen</th>\n",
       "      <th>V3_Edad</th>\n",
       "      <th>V3_Estatus Licencia</th>\n",
       "      <th>V3_Género</th>\n",
       "      <th>V3_No. De Fallecidos</th>\n",
       "      <th>V3_No. De Lesionados</th>\n",
       "      <th>V3_Tipo de Vehículo</th>\n",
       "      <th>V3_Uso de Cinturón</th>\n",
       "    </tr>\n",
       "  </thead>\n",
       "  <tbody>\n",
       "    <tr>\n",
       "      <th>350</th>\n",
       "      <td>350</td>\n",
       "      <td>MORONES PRIETO</td>\n",
       "      <td>Otros</td>\n",
       "      <td>Monterrey</td>\n",
       "      <td>MORONES PRIETO</td>\n",
       "      <td>2016-05-06 00:00:00</td>\n",
       "      <td>1899-12-30 00:00:00</td>\n",
       "      <td>MTY351</td>\n",
       "      <td>25.667973</td>\n",
       "      <td>No</td>\n",
       "      <td>...</td>\n",
       "      <td>NaN</td>\n",
       "      <td>NaN</td>\n",
       "      <td>NaN</td>\n",
       "      <td>NaN</td>\n",
       "      <td>NaN</td>\n",
       "      <td>NaN</td>\n",
       "      <td>NaN</td>\n",
       "      <td>NaN</td>\n",
       "      <td>NaN</td>\n",
       "      <td>NaN</td>\n",
       "    </tr>\n",
       "    <tr>\n",
       "      <th>6675</th>\n",
       "      <td>6675</td>\n",
       "      <td>ANTONIO L RODRIGUEZ</td>\n",
       "      <td>Otros</td>\n",
       "      <td>Monterrey</td>\n",
       "      <td>ANTONIO L RODRIGUEZ</td>\n",
       "      <td>2016-07-29 00:00:00</td>\n",
       "      <td>1899-12-30 00:00:00</td>\n",
       "      <td>MTY6676</td>\n",
       "      <td>25.741865</td>\n",
       "      <td>No</td>\n",
       "      <td>...</td>\n",
       "      <td>NaN</td>\n",
       "      <td>NaN</td>\n",
       "      <td>NaN</td>\n",
       "      <td>NaN</td>\n",
       "      <td>NaN</td>\n",
       "      <td>NaN</td>\n",
       "      <td>NaN</td>\n",
       "      <td>NaN</td>\n",
       "      <td>NaN</td>\n",
       "      <td>NaN</td>\n",
       "    </tr>\n",
       "    <tr>\n",
       "      <th>7291</th>\n",
       "      <td>7291</td>\n",
       "      <td>ACAPULCO</td>\n",
       "      <td>NO GUARDAR DISTANCIA</td>\n",
       "      <td>San Nicolás</td>\n",
       "      <td>ACAPULCO</td>\n",
       "      <td>2016-05-16 00:00:00</td>\n",
       "      <td>08:00:50 p. m.</td>\n",
       "      <td>SN457</td>\n",
       "      <td>NaN</td>\n",
       "      <td>No</td>\n",
       "      <td>...</td>\n",
       "      <td>NaN</td>\n",
       "      <td>NaN</td>\n",
       "      <td>NaN</td>\n",
       "      <td>NaN</td>\n",
       "      <td>NaN</td>\n",
       "      <td>NaN</td>\n",
       "      <td>NaN</td>\n",
       "      <td>NaN</td>\n",
       "      <td>NaN</td>\n",
       "      <td>NaN</td>\n",
       "    </tr>\n",
       "    <tr>\n",
       "      <th>7758</th>\n",
       "      <td>7758</td>\n",
       "      <td>ANTONIO MACHADO</td>\n",
       "      <td>Otros</td>\n",
       "      <td>San Nicolás</td>\n",
       "      <td>ANTONIO MACHADO</td>\n",
       "      <td>2016-06-02 00:00:00</td>\n",
       "      <td>03:35:18 p. m.</td>\n",
       "      <td>SN924</td>\n",
       "      <td>25.740062</td>\n",
       "      <td>No</td>\n",
       "      <td>...</td>\n",
       "      <td>NaN</td>\n",
       "      <td>NaN</td>\n",
       "      <td>NaN</td>\n",
       "      <td>NaN</td>\n",
       "      <td>NaN</td>\n",
       "      <td>NaN</td>\n",
       "      <td>NaN</td>\n",
       "      <td>NaN</td>\n",
       "      <td>NaN</td>\n",
       "      <td>NaN</td>\n",
       "    </tr>\n",
       "    <tr>\n",
       "      <th>7796</th>\n",
       "      <td>7796</td>\n",
       "      <td>LOPEZ MATEOS</td>\n",
       "      <td>INVADIO CARRIL CONTRAREEO</td>\n",
       "      <td>San Nicolás</td>\n",
       "      <td>LOPEZ MATEOS</td>\n",
       "      <td>2016-06-03 00:00:00</td>\n",
       "      <td>06:38:33 p. m.</td>\n",
       "      <td>SN962</td>\n",
       "      <td>25.7276902</td>\n",
       "      <td>No</td>\n",
       "      <td>...</td>\n",
       "      <td>NaN</td>\n",
       "      <td>NaN</td>\n",
       "      <td>NaN</td>\n",
       "      <td>NaN</td>\n",
       "      <td>NaN</td>\n",
       "      <td>NaN</td>\n",
       "      <td>NaN</td>\n",
       "      <td>NaN</td>\n",
       "      <td>NaN</td>\n",
       "      <td>NaN</td>\n",
       "    </tr>\n",
       "    <tr>\n",
       "      <th>...</th>\n",
       "      <td>...</td>\n",
       "      <td>...</td>\n",
       "      <td>...</td>\n",
       "      <td>...</td>\n",
       "      <td>...</td>\n",
       "      <td>...</td>\n",
       "      <td>...</td>\n",
       "      <td>...</td>\n",
       "      <td>...</td>\n",
       "      <td>...</td>\n",
       "      <td>...</td>\n",
       "      <td>...</td>\n",
       "      <td>...</td>\n",
       "      <td>...</td>\n",
       "      <td>...</td>\n",
       "      <td>...</td>\n",
       "      <td>...</td>\n",
       "      <td>...</td>\n",
       "      <td>...</td>\n",
       "      <td>...</td>\n",
       "      <td>...</td>\n",
       "    </tr>\n",
       "    <tr>\n",
       "      <th>52067</th>\n",
       "      <td>22310</td>\n",
       "      <td>NOGALAR SUR</td>\n",
       "      <td>NaN</td>\n",
       "      <td>San Nicolás</td>\n",
       "      <td>NOGALAR SUR</td>\n",
       "      <td>2017-03-31 00:00:00</td>\n",
       "      <td>2017-03-31 00:00:00</td>\n",
       "      <td>SN1457</td>\n",
       "      <td>NaN</td>\n",
       "      <td>NaN</td>\n",
       "      <td>...</td>\n",
       "      <td>Sí</td>\n",
       "      <td>NaN</td>\n",
       "      <td>NaN</td>\n",
       "      <td>NaN</td>\n",
       "      <td>NaN</td>\n",
       "      <td>NaN</td>\n",
       "      <td>NaN</td>\n",
       "      <td>NaN</td>\n",
       "      <td>NaN</td>\n",
       "      <td>NaN</td>\n",
       "    </tr>\n",
       "    <tr>\n",
       "      <th>54379</th>\n",
       "      <td>24622</td>\n",
       "      <td>FRANCISCO SILLER</td>\n",
       "      <td>NaN</td>\n",
       "      <td>San Pedro</td>\n",
       "      <td>FRANCISCO SILLER</td>\n",
       "      <td>2017-03-31 00:00:00</td>\n",
       "      <td>02:14:00 p.m.</td>\n",
       "      <td>SP1583</td>\n",
       "      <td>NaN</td>\n",
       "      <td>NaN</td>\n",
       "      <td>...</td>\n",
       "      <td>NaN</td>\n",
       "      <td>NaN</td>\n",
       "      <td>NaN</td>\n",
       "      <td>NaN</td>\n",
       "      <td>NaN</td>\n",
       "      <td>NaN</td>\n",
       "      <td>NaN</td>\n",
       "      <td>NaN</td>\n",
       "      <td>NaN</td>\n",
       "      <td>NaN</td>\n",
       "    </tr>\n",
       "    <tr>\n",
       "      <th>54414</th>\n",
       "      <td>24657</td>\n",
       "      <td>ZACATENCO</td>\n",
       "      <td>NaN</td>\n",
       "      <td>San Pedro</td>\n",
       "      <td>ZACATENCO</td>\n",
       "      <td>2017-04-02 00:00:00</td>\n",
       "      <td>12:27:00 a.m.</td>\n",
       "      <td>SP1618</td>\n",
       "      <td>NaN</td>\n",
       "      <td>NaN</td>\n",
       "      <td>...</td>\n",
       "      <td>No</td>\n",
       "      <td>NaN</td>\n",
       "      <td>NaN</td>\n",
       "      <td>NaN</td>\n",
       "      <td>NaN</td>\n",
       "      <td>NaN</td>\n",
       "      <td>NaN</td>\n",
       "      <td>NaN</td>\n",
       "      <td>NaN</td>\n",
       "      <td>NaN</td>\n",
       "    </tr>\n",
       "    <tr>\n",
       "      <th>54453</th>\n",
       "      <td>24696</td>\n",
       "      <td>JERONIMO SILLER</td>\n",
       "      <td>NaN</td>\n",
       "      <td>San Pedro</td>\n",
       "      <td>JERONIMO SILLER</td>\n",
       "      <td>2017-04-03 00:00:00</td>\n",
       "      <td>04:38:00 p.m.</td>\n",
       "      <td>SP1657</td>\n",
       "      <td>NaN</td>\n",
       "      <td>NaN</td>\n",
       "      <td>...</td>\n",
       "      <td>No</td>\n",
       "      <td>NaN</td>\n",
       "      <td>NaN</td>\n",
       "      <td>NaN</td>\n",
       "      <td>NaN</td>\n",
       "      <td>NaN</td>\n",
       "      <td>NaN</td>\n",
       "      <td>NaN</td>\n",
       "      <td>NaN</td>\n",
       "      <td>NaN</td>\n",
       "    </tr>\n",
       "    <tr>\n",
       "      <th>54511</th>\n",
       "      <td>24754</td>\n",
       "      <td>CALLEJON DE CAPELLANIA</td>\n",
       "      <td>NaN</td>\n",
       "      <td>San Pedro</td>\n",
       "      <td>CALLEJON DE CAPELLANIA</td>\n",
       "      <td>2017-04-05 00:00:00</td>\n",
       "      <td>07:55:00 a.m.</td>\n",
       "      <td>SP1715</td>\n",
       "      <td>NaN</td>\n",
       "      <td>NaN</td>\n",
       "      <td>...</td>\n",
       "      <td>Sí</td>\n",
       "      <td>NaN</td>\n",
       "      <td>NaN</td>\n",
       "      <td>NaN</td>\n",
       "      <td>NaN</td>\n",
       "      <td>NaN</td>\n",
       "      <td>NaN</td>\n",
       "      <td>NaN</td>\n",
       "      <td>NaN</td>\n",
       "      <td>NaN</td>\n",
       "    </tr>\n",
       "  </tbody>\n",
       "</table>\n",
       "<p>180 rows × 50 columns</p>\n",
       "</div>"
      ],
      "text/plain": [
       "       Column                   Calle                      Causa       Ciudad  \\\n",
       "350       350          MORONES PRIETO                      Otros    Monterrey   \n",
       "6675     6675     ANTONIO L RODRIGUEZ                      Otros    Monterrey   \n",
       "7291     7291                ACAPULCO       NO GUARDAR DISTANCIA  San Nicolás   \n",
       "7758     7758         ANTONIO MACHADO                      Otros  San Nicolás   \n",
       "7796     7796            LOPEZ MATEOS  INVADIO CARRIL CONTRAREEO  San Nicolás   \n",
       "...       ...                     ...                        ...          ...   \n",
       "52067   22310             NOGALAR SUR                        NaN  San Nicolás   \n",
       "54379   24622        FRANCISCO SILLER                        NaN    San Pedro   \n",
       "54414   24657               ZACATENCO                        NaN    San Pedro   \n",
       "54453   24696         JERONIMO SILLER                        NaN    San Pedro   \n",
       "54511   24754  CALLEJON DE CAPELLANIA                        NaN    San Pedro   \n",
       "\n",
       "                        Cruce                Fecha                 Hora  \\\n",
       "350            MORONES PRIETO  2016-05-06 00:00:00  1899-12-30 00:00:00   \n",
       "6675      ANTONIO L RODRIGUEZ  2016-07-29 00:00:00  1899-12-30 00:00:00   \n",
       "7291                 ACAPULCO  2016-05-16 00:00:00       08:00:50 p. m.   \n",
       "7758          ANTONIO MACHADO  2016-06-02 00:00:00       03:35:18 p. m.   \n",
       "7796             LOPEZ MATEOS  2016-06-03 00:00:00       06:38:33 p. m.   \n",
       "...                       ...                  ...                  ...   \n",
       "52067             NOGALAR SUR  2017-03-31 00:00:00  2017-03-31 00:00:00   \n",
       "54379        FRANCISCO SILLER  2017-03-31 00:00:00        02:14:00 p.m.   \n",
       "54414               ZACATENCO  2017-04-02 00:00:00        12:27:00 a.m.   \n",
       "54453         JERONIMO SILLER  2017-04-03 00:00:00        04:38:00 p.m.   \n",
       "54511  CALLEJON DE CAPELLANIA  2017-04-05 00:00:00        07:55:00 a.m.   \n",
       "\n",
       "            ID     Latitud Lesionados  ... V2_Uso de Cinturón V3_Arresto  \\\n",
       "350     MTY351   25.667973         No  ...                NaN        NaN   \n",
       "6675   MTY6676   25.741865         No  ...                NaN        NaN   \n",
       "7291     SN457         NaN         No  ...                NaN        NaN   \n",
       "7758     SN924   25.740062         No  ...                NaN        NaN   \n",
       "7796     SN962  25.7276902         No  ...                NaN        NaN   \n",
       "...        ...         ...        ...  ...                ...        ...   \n",
       "52067   SN1457         NaN        NaN  ...                 Sí        NaN   \n",
       "54379   SP1583         NaN        NaN  ...                NaN        NaN   \n",
       "54414   SP1618         NaN        NaN  ...                 No        NaN   \n",
       "54453   SP1657         NaN        NaN  ...                 No        NaN   \n",
       "54511   SP1715         NaN        NaN  ...                 Sí        NaN   \n",
       "\n",
       "      V3_Dictamen V3_Edad  V3_Estatus Licencia  V3_Género  \\\n",
       "350           NaN     NaN                  NaN        NaN   \n",
       "6675          NaN     NaN                  NaN        NaN   \n",
       "7291          NaN     NaN                  NaN        NaN   \n",
       "7758          NaN     NaN                  NaN        NaN   \n",
       "7796          NaN     NaN                  NaN        NaN   \n",
       "...           ...     ...                  ...        ...   \n",
       "52067         NaN     NaN                  NaN        NaN   \n",
       "54379         NaN     NaN                  NaN        NaN   \n",
       "54414         NaN     NaN                  NaN        NaN   \n",
       "54453         NaN     NaN                  NaN        NaN   \n",
       "54511         NaN     NaN                  NaN        NaN   \n",
       "\n",
       "      V3_No. De Fallecidos V3_No. De Lesionados V3_Tipo de Vehículo  \\\n",
       "350                    NaN                  NaN                 NaN   \n",
       "6675                   NaN                  NaN                 NaN   \n",
       "7291                   NaN                  NaN                 NaN   \n",
       "7758                   NaN                  NaN                 NaN   \n",
       "7796                   NaN                  NaN                 NaN   \n",
       "...                    ...                  ...                 ...   \n",
       "52067                  NaN                  NaN                 NaN   \n",
       "54379                  NaN                  NaN                 NaN   \n",
       "54414                  NaN                  NaN                 NaN   \n",
       "54453                  NaN                  NaN                 NaN   \n",
       "54511                  NaN                  NaN                 NaN   \n",
       "\n",
       "      V3_Uso de Cinturón  \n",
       "350                  NaN  \n",
       "6675                 NaN  \n",
       "7291                 NaN  \n",
       "7758                 NaN  \n",
       "7796                 NaN  \n",
       "...                  ...  \n",
       "52067                NaN  \n",
       "54379                NaN  \n",
       "54414                NaN  \n",
       "54453                NaN  \n",
       "54511                NaN  \n",
       "\n",
       "[180 rows x 50 columns]"
      ]
     },
     "execution_count": 24,
     "metadata": {},
     "output_type": "execute_result"
    }
   ],
   "source": [
    "collision_df[collision_df['Calle']==collision_df['Cruce']]"
   ]
  },
  {
   "cell_type": "code",
   "execution_count": 25,
   "id": "1465b1f6-4eb0-47f7-923b-0aa9ce357d8f",
   "metadata": {},
   "outputs": [
    {
     "data": {
      "text/plain": [
       "0.003271953901805028"
      ]
     },
     "execution_count": 25,
     "metadata": {},
     "output_type": "execute_result"
    }
   ],
   "source": [
    "len(collision_df[collision_df['Calle']==collision_df['Cruce']])/len(collision_df)"
   ]
  },
  {
   "cell_type": "code",
   "execution_count": 22,
   "id": "8491a2d6-ddb5-4249-91df-1d0b28f30df4",
   "metadata": {},
   "outputs": [
    {
     "data": {
      "text/plain": [
       "MORONES PRIETO      2093\n",
       "GONZALITOS          1782\n",
       "LAZARO CARDENAS     1742\n",
       "ALFONSO REYES       1539\n",
       "GARZA SADA          1384\n",
       "JOSE VASCONCELOS    1305\n",
       "CONSTITUCION        1098\n",
       "MADERO              1093\n",
       "LEONES              1056\n",
       "LINCOLN              940\n",
       "dtype: int64"
      ]
     },
     "execution_count": 22,
     "metadata": {},
     "output_type": "execute_result"
    }
   ],
   "source": [
    "pd.concat([collision_df['Calle'], collision_df['Cruce']]).value_counts()[0:10]"
   ]
  },
  {
   "cell_type": "markdown",
   "id": "f227ed2c-3dae-4ce0-a945-62247a95601e",
   "metadata": {},
   "source": [
    "2. What's the age group with the overall highest number of reported colisions? You can consider any age groupings for the purposes of this question. Explain this in a graphical way.\n"
   ]
  },
  {
   "cell_type": "code",
   "execution_count": 31,
   "id": "56f5607a-77bb-486f-8194-086c0cf13401",
   "metadata": {},
   "outputs": [
    {
     "data": {
      "text/plain": [
       "1"
      ]
     },
     "execution_count": 31,
     "metadata": {},
     "output_type": "execute_result"
    }
   ],
   "source": [
    "pd.to_numeric(1)"
   ]
  },
  {
   "cell_type": "code",
   "execution_count": 34,
   "id": "c72bf65e-8dd4-4230-8aef-2bcf4085335a",
   "metadata": {},
   "outputs": [],
   "source": [
    "import numpy as np"
   ]
  },
  {
   "cell_type": "code",
   "execution_count": 97,
   "id": "14797bbb-c16f-4cc8-9e4d-29a22d022296",
   "metadata": {},
   "outputs": [],
   "source": [
    "def na_if_not_numeric(in_data):\n",
    "    try:\n",
    "        pd.to_numeric(in_data)\n",
    "        return int(in_data)\n",
    "    except:\n",
    "        return np.nan"
   ]
  },
  {
   "cell_type": "code",
   "execution_count": 98,
   "id": "a54b9671-709d-4f92-a6a4-d2ca1f16288c",
   "metadata": {},
   "outputs": [],
   "source": [
    "collision_df['V1_Edad_NAN'] = collision_df['V1_Edad'].apply(lambda x: na_if_not_numeric(x))"
   ]
  },
  {
   "cell_type": "code",
   "execution_count": 99,
   "id": "633a003c-179a-4b29-b651-e499cdfa7e5c",
   "metadata": {},
   "outputs": [
    {
     "data": {
      "text/plain": [
       "9117"
      ]
     },
     "execution_count": 99,
     "metadata": {},
     "output_type": "execute_result"
    }
   ],
   "source": [
    "len(collision_df[collision_df['V1_Edad_NAN'].isna()])"
   ]
  },
  {
   "cell_type": "code",
   "execution_count": 100,
   "id": "3b05cbe5-379a-4aec-a32a-6f6c782ce071",
   "metadata": {},
   "outputs": [
    {
     "data": {
      "text/plain": [
       "55013"
      ]
     },
     "execution_count": 100,
     "metadata": {},
     "output_type": "execute_result"
    }
   ],
   "source": [
    "len(collision_df)"
   ]
  },
  {
   "cell_type": "code",
   "execution_count": 101,
   "id": "29363db8-2179-4023-8502-b17473b71d9a",
   "metadata": {},
   "outputs": [
    {
     "data": {
      "text/plain": [
       "<AxesSubplot:>"
      ]
     },
     "execution_count": 101,
     "metadata": {},
     "output_type": "execute_result"
    },
    {
     "data": {
      "image/png": "[encoded data removed]",
      "text/plain": [
       "<Figure size 432x288 with 1 Axes>"
      ]
     },
     "metadata": {
      "needs_background": "light"
     },
     "output_type": "display_data"
    }
   ],
   "source": [
    "pd.to_numeric(collision_df['V1_Edad_NAN']).hist()"
   ]
  },
  {
   "cell_type": "code",
   "execution_count": 102,
   "id": "322f0e39-391e-447b-907c-0a87338b4216",
   "metadata": {},
   "outputs": [
    {
     "data": {
      "text/plain": [
       "0         NaN\n",
       "1        57.0\n",
       "2        34.0\n",
       "3        27.0\n",
       "4        39.0\n",
       "         ... \n",
       "55008    69.0\n",
       "55009    70.0\n",
       "55010    19.0\n",
       "55011    15.0\n",
       "55012    45.0\n",
       "Name: V1_Edad_NAN, Length: 55013, dtype: float64"
      ]
     },
     "execution_count": 102,
     "metadata": {},
     "output_type": "execute_result"
    }
   ],
   "source": [
    "collision_df['V1_Edad_NAN']"
   ]
  },
  {
   "cell_type": "code",
   "execution_count": 103,
   "id": "c739f677-7779-4c54-8694-b303aedfd24d",
   "metadata": {},
   "outputs": [
    {
     "data": {
      "text/plain": [
       "\u001b[0;31mSignature:\u001b[0m  \u001b[0misinstance\u001b[0m\u001b[0;34m(\u001b[0m\u001b[0mobj\u001b[0m\u001b[0;34m,\u001b[0m \u001b[0mclass_or_tuple\u001b[0m\u001b[0;34m,\u001b[0m \u001b[0;34m/\u001b[0m\u001b[0;34m)\u001b[0m\u001b[0;34m\u001b[0m\u001b[0;34m\u001b[0m\u001b[0m\n",
       "\u001b[0;31mDocstring:\u001b[0m\n",
       "Return whether an object is an instance of a class or of a subclass thereof.\n",
       "\n",
       "A tuple, as in ``isinstance(x, (A, B, ...))``, may be given as the target to\n",
       "check against. This is equivalent to ``isinstance(x, A) or isinstance(x, B)\n",
       "or ...`` etc.\n",
       "\u001b[0;31mType:\u001b[0m      builtin_function_or_method\n"
      ]
     },
     "metadata": {},
     "output_type": "display_data"
    }
   ],
   "source": [
    "?? isinstance"
   ]
  },
  {
   "cell_type": "code",
   "execution_count": 104,
   "id": "460273b2-f968-4b9f-bc25-2172587c2db4",
   "metadata": {},
   "outputs": [
    {
     "data": {
      "text/plain": [
       "0        False\n",
       "1        False\n",
       "2        False\n",
       "3        False\n",
       "4        False\n",
       "         ...  \n",
       "55008    False\n",
       "55009    False\n",
       "55010    False\n",
       "55011    False\n",
       "55012    False\n",
       "Name: V1_Edad_NAN, Length: 55013, dtype: bool"
      ]
     },
     "execution_count": 104,
     "metadata": {},
     "output_type": "execute_result"
    }
   ],
   "source": [
    "collision_df['V1_Edad_NAN'].apply(lambda x: isinstance(x, str))"
   ]
  },
  {
   "cell_type": "code",
   "execution_count": 110,
   "id": "2e3b7ab3-1cc8-4710-866f-6273cc361093",
   "metadata": {},
   "outputs": [
    {
     "data": {
      "text/plain": [
       "<AxesSubplot:>"
      ]
     },
     "execution_count": 110,
     "metadata": {},
     "output_type": "execute_result"
    },
    {
     "data": {
      "image/png": "[encoded data removed]",
      "text/plain": [
       "<Figure size 432x288 with 1 Axes>"
      ]
     },
     "metadata": {
      "needs_background": "light"
     },
     "output_type": "display_data"
    }
   ],
   "source": [
    "collision_df[collision_df['V1_Edad_NAN']<120]['V1_Edad_NAN'].hist(bins=50)"
   ]
  },
  {
   "cell_type": "code",
   "execution_count": 116,
   "id": "fbf0b57e-5b38-421d-864f-c23949b0b062",
   "metadata": {},
   "outputs": [],
   "source": [
    "count_alcohol_gs = collision_df[collision_df['Calle']=='GARZA SADA']['Por alcohol'].value_counts()"
   ]
  },
  {
   "cell_type": "code",
   "execution_count": 119,
   "id": "daf35a00-20d9-4171-9070-042a558b4d82",
   "metadata": {},
   "outputs": [
    {
     "data": {
      "text/plain": [
       "No    428\n",
       "Sí     82\n",
       "Name: Por alcohol, dtype: int64"
      ]
     },
     "execution_count": 119,
     "metadata": {},
     "output_type": "execute_result"
    }
   ],
   "source": [
    "count_alcohol_gs"
   ]
  },
  {
   "cell_type": "code",
   "execution_count": 121,
   "id": "f46f7044-f430-4cf7-b24d-a414073964b1",
   "metadata": {},
   "outputs": [
    {
     "data": {
      "text/plain": [
       "16.07843137254902"
      ]
     },
     "execution_count": 121,
     "metadata": {},
     "output_type": "execute_result"
    }
   ],
   "source": [
    "100*count_alcohol_gs['Sí']/count_alcohol_gs.sum()"
   ]
  },
  {
   "cell_type": "markdown",
   "id": "66d182fe-9a8e-4d41-ace5-7f08c337a1f9",
   "metadata": {},
   "source": [
    "4. Proporcion de personas viajando por ese camino"
   ]
  },
  {
   "cell_type": "markdown",
   "id": "edaa4bd9-de4c-4bcd-8f5f-39b87648a3d3",
   "metadata": {},
   "source": [
    "5. "
   ]
  }
 ],
 "metadata": {
  "kernelspec": {
   "display_name": "Python 3 (ipykernel)",
   "language": "python",
   "name": "python3"
  },
  "language_info": {
   "codemirror_mode": {
    "name": "ipython",
    "version": 3
   },
   "file_extension": ".py",
   "mimetype": "text/x-python",
   "name": "python",
   "nbconvert_exporter": "python",
   "pygments_lexer": "ipython3",
   "version": "3.9.7"
  }
 },
 "nbformat": 4,
 "nbformat_minor": 5
}
